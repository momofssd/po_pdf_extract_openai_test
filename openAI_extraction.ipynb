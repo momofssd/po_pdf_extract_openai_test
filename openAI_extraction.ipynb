{
 "cells": [
  {
   "cell_type": "code",
   "execution_count": null,
   "metadata": {},
   "outputs": [],
   "source": [
    "from dotenv import dotenv_values\n",
    "from openai import OpenAI\n",
    "import PyPDF2\n",
    "import re\n",
    "import json\n"
   ]
  },
  {
   "cell_type": "code",
   "execution_count": null,
   "metadata": {},
   "outputs": [],
   "source": [
    "env_vars=dotenv_values(\".env\")\n",
    "OPENAI_API_KEY=env_vars.get(\"OPENAI_API_KEY\")\n"
   ]
  },
  {
   "cell_type": "code",
   "execution_count": null,
   "metadata": {},
   "outputs": [],
   "source": [
    "if OPENAI_API_KEY:\n",
    "  try:\n",
    "    openai_client=OpenAI(api_key=OPENAI_API_KEY)\n",
    "    openai_client.models.list()\n",
    "  except Exception as e:\n",
    "    print (f\"Incorrect Key{e}\")\n",
    "    "
   ]
  },
  {
   "cell_type": "code",
   "execution_count": null,
   "metadata": {},
   "outputs": [],
   "source": [
    "def extract_text_from_pdf(pdf_filename):\n",
    "    text = \"\"\n",
    "    try:\n",
    "        with open(pdf_filename, \"rb\") as file:\n",
    "            pdf_reader = PyPDF2.PdfReader(file)\n",
    "            for page in pdf_reader.pages:\n",
    "                text += page.extract_text() + \"\\n\"\n",
    "    except Exception as e:\n",
    "        print(f\"Error reading PDF: {e}\")\n",
    "    return text"
   ]
  },
  {
   "cell_type": "code",
   "execution_count": null,
   "metadata": {},
   "outputs": [],
   "source": [
    "def fix_number_format(text):\n",
    "\n",
    "    # Convert numbers formatted as \"xxx,xxx.xxx\" to \"xxxxxx.xxx\"\n",
    "    text = re.sub(r'(\\d{1,3}),(\\d{3}\\.\\d+)', r'\\1\\2', text)  \n",
    "\n",
    "    return text"
   ]
  },
  {
   "cell_type": "code",
   "execution_count": null,
   "metadata": {},
   "outputs": [],
   "source": [
    "pdf_filename = \"B_PO_4287663.pdf\"\n",
    "pdf_text = extract_text_from_pdf(pdf_filename)\n",
    "pdf_text = fix_number_format(pdf_text)\n"
   ]
  },
  {
   "cell_type": "code",
   "execution_count": null,
   "metadata": {},
   "outputs": [],
   "source": [
    "system_message = (\n",
    "    \"You are an AI extracting relevant content from a purchase order. \"\n",
    "    \"Find the following details and return ONLY a valid JSON object with these fields:\"\n",
    "    \"\\n- Customer Name (Look for terms and condition and header section)\"\n",
    "    \"\\n- Purchase Order Number\"\n",
    "    \"\\n- Required Delivery Date (convert to ISO format YYYY-MM-DD)\" \n",
    "    \"\\n- Material Number (Extract from the line item section, usually in the same row as 'Order Qty' and 'UOM')\"\n",
    "    \"\\n- Order Quantity in kg (only the converted kg value, do not include pounds or extra text, round to the nearest integer)\"\n",
    "    \"\\n- Delivery Address (extract ONLY the 'SHIP TO' address, includes distribution name if it is there, ignore all other addresses including 'Vendor', 'Invoice', 'Billing', and any address containing 'PO Box')\"\n",
    "    \"\\n\\nIMPORTANT: \"\n",
    "    \"- Return ONLY a valid JSON object. Do NOT include explanations, introductions, or Markdown formatting.\"\n",
    "    \"- Ensure 'Order Quantity in kg' is a clean number without thousand separators or extra text.\"\n",
    "    \"- Ensure 'Required Delivery Date' follows ISO 8601 format (YYYY-MM-DD).\"\n",
    "    \"- Ensure 'Delivery Address' is the correct 'SHIP TO' address.\"\n",
    "    \"- Ignore addresses related to 'Vendor', 'Invoice', 'Billing', 'Remit To', 'PO Box', or 'Mailing Address'.\"\n",
    "    \"- Ignore Material Number related to 'Vendor', 'Invoice', 'Billing', 'Remit To', 'PO Box', or 'Mailing \"\n",
    "    \"- Ignore **Price per unit** label.\"\n",
    ")\n",
    "\n",
    "\n",
    "\n",
    "user_prompt=f\"Extract relevant details from the following purchase order:\\n{pdf_text}\"\n",
    "prompts=[\n",
    "  {\"role\":\"system\",\"content\":system_message},\n",
    "  {\"role\":\"user\",\"content\":user_prompt},\n",
    "]\n"
   ]
  },
  {
   "cell_type": "code",
   "execution_count": null,
   "metadata": {},
   "outputs": [],
   "source": [
    "MODEL='gpt-4o'\n",
    "response=openai_client.chat.completions.create(\n",
    "  model=MODEL,\n",
    "  messages=prompts,\n",
    "  temperature=0,\n",
    "   top_p=0.1,\n",
    ")\n",
    "print(response.choices[0].message.content)\n",
    "extract_contents=response.choices[0].message.content\n"
   ]
  },
  {
   "cell_type": "code",
   "execution_count": null,
   "metadata": {},
   "outputs": [],
   "source": [
    "# Convert string to JSON format\n",
    "try:\n",
    "    extract_contents_json = json.loads(extract_contents)  # Convert to dictionary\n",
    "    print(\"Valid JSON Output:\\n\", json.dumps(extract_contents_json, indent=4))  # Pretty print JSON\n",
    "except json.JSONDecodeError as e:\n",
    "    print(\"Error: OpenAI did not return valid JSON.\\n\", e)\n",
    "    print(\"Raw API Response:\\n\", extract_contents)"
   ]
  },
  {
   "cell_type": "code",
   "execution_count": null,
   "metadata": {},
   "outputs": [],
   "source": []
  },
  {
   "cell_type": "code",
   "execution_count": null,
   "metadata": {},
   "outputs": [],
   "source": []
  },
  {
   "cell_type": "code",
   "execution_count": null,
   "metadata": {},
   "outputs": [],
   "source": []
  }
 ],
 "metadata": {
  "kernelspec": {
   "display_name": "Python 3",
   "language": "python",
   "name": "python3"
  },
  "language_info": {
   "codemirror_mode": {
    "name": "ipython",
    "version": 3
   },
   "file_extension": ".py",
   "mimetype": "text/x-python",
   "name": "python",
   "nbconvert_exporter": "python",
   "pygments_lexer": "ipython3",
   "version": "3.12.5"
  }
 },
 "nbformat": 4,
 "nbformat_minor": 2
}
